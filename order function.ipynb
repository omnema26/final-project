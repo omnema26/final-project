{
 "cells": [
  {
   "cell_type": "code",
   "execution_count": 30,
   "id": "3369ef53",
   "metadata": {},
   "outputs": [
    {
     "name": "stdout",
     "output_type": "stream",
     "text": [
      "enter the food1tandori chicken\n",
      "price is inr 200\n",
      "enter the food2vegan burger\n",
      "price is inr 100\n",
      "enter the food3truffle cake\n",
      "price is inr 500\n",
      "thank you visit again\n"
     ]
    }
   ],
   "source": [
    "class order_food:\n",
    "    def __init__ (self):\n",
    "        self.order={}\n",
    "        self.order_id=len(self.order)+1\n",
    "        \n",
    "    \n",
    "    def my_order(self):\n",
    "        self.food1= str(input(\"enter the food1\"))\n",
    "        if self.food1==(\"tandori chicken\"):\n",
    "                print(\"price is inr 200\")\n",
    "        self.food2= input(\"enter the food2\")\n",
    "        if self.food2==(\"vegan burger\"):\n",
    "            print(\"price is inr 100\")\n",
    "        self.food3= input(\"enter the food3\")\n",
    "        if self.food3==(\"truffle cake\"):\n",
    "            print(\"price is inr 500\")\n",
    "        self.item={\"food1\":self.food1,\"food2\":self.food2,\"food3\":self.food3}\n",
    "        self.order_id=len(self.order)+1\n",
    "        self.order[self.order_id]=self.item\n",
    "        print (\"thank you visit again\")\n",
    "        \n",
    "x=order_food()\n",
    "x.my_order()\n",
    "        "
   ]
  },
  {
   "cell_type": "code",
   "execution_count": null,
   "id": "d996a9ba",
   "metadata": {},
   "outputs": [],
   "source": []
  },
  {
   "cell_type": "code",
   "execution_count": null,
   "id": "87a1151b",
   "metadata": {},
   "outputs": [],
   "source": []
  }
 ],
 "metadata": {
  "kernelspec": {
   "display_name": "Python 3 (ipykernel)",
   "language": "python",
   "name": "python3"
  },
  "language_info": {
   "codemirror_mode": {
    "name": "ipython",
    "version": 3
   },
   "file_extension": ".py",
   "mimetype": "text/x-python",
   "name": "python",
   "nbconvert_exporter": "python",
   "pygments_lexer": "ipython3",
   "version": "3.9.12"
  }
 },
 "nbformat": 4,
 "nbformat_minor": 5
}
